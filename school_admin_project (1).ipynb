{
  "nbformat": 4,
  "nbformat_minor": 0,
  "metadata": {
    "colab": {
      "name": "school admin project",
      "provenance": [],
      "collapsed_sections": []
    },
    "kernelspec": {
      "name": "python3",
      "display_name": "Python 3"
    },
    "language_info": {
      "name": "python"
    }
  },
  "cells": [
    {
      "cell_type": "code",
      "metadata": {
        "id": "2U62r53PN9vk"
      },
      "source": [
        "import csv\n",
        "\n",
        "def write_into_csv(info_list):\n",
        "  with open('student_info.csv' , 'a', newline='') as csv_file:\n",
        "       writer=csv.writer(csv_file)\n",
        "       writer.writerow([\"Name\" ,\"Age\" , \"Contact number\" ,\"E-mail ID\"])\n",
        "       writer.writerow(info_list)\n",
        "\n",
        "condition = True\n",
        "while(condition):\n",
        "       student_info = input(\"Enter student information in the following format (Name Age Contact_Number E-mail_ID): \")\n",
        "       print(\"Entered information: \" + student_info)\n",
        "\n",
        "       #split\n",
        "       student_info_list = student_info.split(' ')\n",
        "       print(\"Entered split up information is:\" + str(student_info_list) )\n",
        "       \n",
        "       write_into_csv(student_info_list)  \n",
        "       condition_check= input(\"Enter (yes/no) if you want to enter information for another student: \")\n",
        "       if condition_check == \"yes\":\n",
        "          condition = True\n",
        "       elif condition_check == \"no\":\n",
        "          condition = False\n",
        "      \n",
        "\n",
        "\n",
        "\n",
        "\n",
        "  \n",
        "\n",
        "  \n",
        "\n",
        "   \n",
        "\n",
        "    "
      ],
      "execution_count": null,
      "outputs": []
    }
  ]
}