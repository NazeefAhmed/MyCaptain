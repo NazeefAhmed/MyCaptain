{
  "nbformat": 4,
  "nbformat_minor": 0,
  "metadata": {
    "colab": {
      "name": "school admin25 project",
      "provenance": [],
      "collapsed_sections": []
    },
    "kernelspec": {
      "name": "python3",
      "display_name": "Python 3"
    },
    "language_info": {
      "name": "python"
    }
  },
  "cells": [
    {
      "cell_type": "code",
      "metadata": {
        "id": "2U62r53PN9vk"
      },
      "source": [
        "import csv\n",
        "_name_ = '_main_'\n",
        "\n",
        " \n",
        "def write_into_csv(info_list):\n",
        "  with open('student_info.csv' , 'a', newline='') as csv_file:\n",
        "       writer=csv.writer(csv_file)\n",
        "       if csv_file.tell() == 0:\n",
        "          writer.writerow([\"Name\" ,\"Age\" , \"Contact number\" ,\"E-mail ID\"])\n",
        " \n",
        "       writer.writerow(info_list)\n",
        " \n",
        "if _name_ == '_main_':\n",
        "    condition = True\n",
        "    student_num = 1\n",
        " \n",
        "    while (condition):\n",
        "        student_info =  input(\"Enter student information for student #{} in the following format (Name Age Contact_Number E-mail_ID): \".format(student_num))\n",
        "        #split\n",
        "        student_info_list = student_info.split(' ')\n",
        "        print(\"\\nThe entered information is - \\nName: {}\\nAge: {}\\nContact_number: {}\\nE-mail ID: {}\".format(student_info_list[0], student_info_list[1], student_info_list[2],student_info_list[3]) )\n",
        "        choice_check = input(\"Is the entered information correct? (yes/no):\")\n",
        " \n",
        "        if choice_check == \"yes\":\n",
        "           write_into_csv(student_info_list)  \n",
        "           condition_check= input(\"Enter (yes/no) if you want to enter information for another student: \")\n",
        "           if condition_check == \"yes\":\n",
        "              condition = True\n",
        "              student_num = student_num + 1\n",
        "           elif condition_check == \"no\":\n",
        "            condition = False \n",
        "        elif choice_check == \"no\":\n",
        "         print(\"\\nPlease re enter the values:\")"
      ],
      "execution_count": null,
      "outputs": []
    }
  ]
}