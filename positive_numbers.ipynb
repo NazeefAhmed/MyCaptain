{
  "nbformat": 4,
  "nbformat_minor": 0,
  "metadata": {
    "colab": {
      "name": "positive numbers.ipynb",
      "provenance": []
    },
    "kernelspec": {
      "name": "python3",
      "display_name": "Python 3"
    },
    "language_info": {
      "name": "python"
    }
  },
  "cells": [
    {
      "cell_type": "code",
      "metadata": {
        "id": "5V01otX9l4xa"
      },
      "source": [
        "list1=[12,15,4,7,-8,-9,25,-69]\n",
        "\n",
        "pos_num=[i for i in list1 if i>=0]\n",
        "\n",
        "print(\"The positive numbers from the list are:\" ,*pos_num)\n",
        "\n",
        "\n",
        "\n",
        "\n",
        "\n",
        "       "
      ],
      "execution_count": null,
      "outputs": []
    }
  ]
}