{
  "nbformat": 4,
  "nbformat_minor": 0,
  "metadata": {
    "colab": {
      "name": "W3schoolsassignment.ipynb",
      "provenance": [],
      "collapsed_sections": []
    },
    "kernelspec": {
      "name": "python3",
      "display_name": "Python 3"
    },
    "language_info": {
      "name": "python"
    }
  },
  "cells": [
    {
      "cell_type": "markdown",
      "metadata": {
        "id": "g9MV2gQQI8pN"
      },
      "source": [
        "**Implementaion of List methods**"
      ]
    },
    {
      "cell_type": "code",
      "metadata": {
        "id": "LcixtEsnHig6"
      },
      "source": [
        "#creating a list\n",
        "thislist = [\"apple\", \"banana\", \"cherry\"]\n",
        "print(thislist)"
      ],
      "execution_count": null,
      "outputs": []
    },
    {
      "cell_type": "code",
      "metadata": {
        "id": "rwSYqWaOJOpl"
      },
      "source": [
        "#checking for duplicate values\n",
        "thislist = [\"apple\", \"banana\", \"cherry\", \"apple\", \"cherry\"]\n",
        "print(thislist) "
      ],
      "execution_count": null,
      "outputs": []
    },
    {
      "cell_type": "code",
      "metadata": {
        "id": "gzH4ZMlZPL5o"
      },
      "source": [
        "#checking the length of the list\n",
        "thislist = [\"apple\", \"banana\", \"cherry\"]\n",
        "print(len(thislist))\n"
      ],
      "execution_count": null,
      "outputs": []
    },
    {
      "cell_type": "code",
      "metadata": {
        "id": "uIrUqtawPaHy"
      },
      "source": [
        "#checking the data type of lists\n",
        "mylist = [\"apple\", \"banana\", \"cherry\"]\n",
        "print(type(mylist))"
      ],
      "execution_count": null,
      "outputs": []
    },
    {
      "cell_type": "code",
      "metadata": {
        "id": "bKZaDbRoPpFo"
      },
      "source": [
        "#using list constructor to make a list\n",
        "thislist = list((\"apple\", \"banana\", \"cherry\")) # note the double round-brackets\n",
        "print(thislist)"
      ],
      "execution_count": null,
      "outputs": []
    },
    {
      "cell_type": "code",
      "metadata": {
        "id": "oqk_FpxOPuia"
      },
      "source": [
        "#printing the second item of the list\n",
        "thislist = [\"apple\", \"banana\", \"cherry\"]\n",
        "print(thislist[1])"
      ],
      "execution_count": null,
      "outputs": []
    },
    {
      "cell_type": "code",
      "metadata": {
        "id": "zv_QzrSRQoeG"
      },
      "source": [
        "#printing the last item of the list\n",
        "thislist = [\"apple\", \"banana\", \"cherry\"]\n",
        "print(thislist[-1])"
      ],
      "execution_count": null,
      "outputs": []
    },
    {
      "cell_type": "code",
      "metadata": {
        "id": "BYQtxZTLQysW"
      },
      "source": [
        "#Return the third, fourth, and fifth item:\n",
        "thislist = [\"apple\", \"banana\", \"cherry\", \"orange\", \"kiwi\", \"melon\", \"mango\"]\n",
        "print(thislist[2:5]) "
      ],
      "execution_count": null,
      "outputs": []
    },
    {
      "cell_type": "code",
      "metadata": {
        "id": "HJoqDReUQ4lO"
      },
      "source": [
        "#This example returns the items from \"cherry\" to the end:\n",
        "thislist = [\"apple\", \"banana\", \"cherry\", \"orange\", \"kiwi\", \"melon\", \"mango\"]\n",
        "print(thislist[2:])\n"
      ],
      "execution_count": null,
      "outputs": []
    },
    {
      "cell_type": "code",
      "metadata": {
        "id": "tEdbQQTpRDpZ"
      },
      "source": [
        "#This example returns the items from \"orange\" (-4) to, but NOT including \"mango\" (-1):\n",
        "thislist = [\"apple\", \"banana\", \"cherry\", \"orange\", \"kiwi\", \"melon\", \"mango\"]\n",
        "print(thislist[-4:-1])"
      ],
      "execution_count": null,
      "outputs": []
    },
    {
      "cell_type": "code",
      "metadata": {
        "id": "n0wQzxfzRLZ0"
      },
      "source": [
        "#Check if \"apple\" is present in the list:\n",
        "thislist = [\"apple\", \"banana\", \"cherry\"]\n",
        "if \"apple\" in thislist:\n",
        "  print(\"Yes, 'apple' is in the fruits list\")"
      ],
      "execution_count": null,
      "outputs": []
    },
    {
      "cell_type": "code",
      "metadata": {
        "id": "Rl7rVJh1RZTC"
      },
      "source": [
        "#changing the second item in the list\n",
        "thislist = [\"apple\", \"banana\", \"cherry\"]\n",
        "thislist[1] = \"blackcurrant\"\n",
        "print(thislist)"
      ],
      "execution_count": null,
      "outputs": []
    },
    {
      "cell_type": "code",
      "metadata": {
        "id": "9eVWv6WQRqI-"
      },
      "source": [
        "#Change the second value by replacing it with two new values:\n",
        "thislist = [\"apple\", \"banana\", \"cherry\"]\n",
        "thislist[1:2] = [\"blackcurrant\", \"watermelon\"]\n",
        "print(thislist)"
      ],
      "execution_count": null,
      "outputs": []
    },
    {
      "cell_type": "code",
      "metadata": {
        "id": "V4ypZNGjR2p-"
      },
      "source": [
        "#Change the second and third value by replacing it with one value:\n",
        "thislist = [\"apple\", \"banana\", \"cherry\"]\n",
        "thislist[1:3] = [\"watermelon\"]\n",
        "print(thislist)\n"
      ],
      "execution_count": null,
      "outputs": []
    },
    {
      "cell_type": "code",
      "metadata": {
        "id": "uwQvRewHR-Yv"
      },
      "source": [
        "#using insert()\n",
        "thislist = [\"apple\", \"banana\", \"cherry\"]\n",
        "thislist.insert(2, \"watermelon\")\n",
        "print(thislist)"
      ],
      "execution_count": null,
      "outputs": []
    },
    {
      "cell_type": "code",
      "metadata": {
        "id": "y4c-0Gs7SHAF"
      },
      "source": [
        "#adding items using apppend\n",
        "thislist = [\"apple\", \"banana\", \"cherry\"]\n",
        "thislist.append(\"orange\")\n",
        "print(thislist)\n"
      ],
      "execution_count": null,
      "outputs": []
    },
    {
      "cell_type": "code",
      "metadata": {
        "id": "DkdsJgCPSTGM"
      },
      "source": [
        "#using extend method\n",
        "thislist = [\"apple\", \"banana\", \"cherry\"]\n",
        "tropical = [\"mango\", \"pineapple\", \"papaya\"]\n",
        "thislist.extend(tropical)\n",
        "print(thislist)\n"
      ],
      "execution_count": null,
      "outputs": []
    },
    {
      "cell_type": "code",
      "metadata": {
        "id": "heNcfmlgT6JR"
      },
      "source": [
        "#removing an item from the list\n",
        "thislist = [\"apple\", \"banana\", \"cherry\"]\n",
        "thislist.remove(\"banana\")\n",
        "print(thislist)\n"
      ],
      "execution_count": null,
      "outputs": []
    },
    {
      "cell_type": "code",
      "metadata": {
        "id": "NDrjf_HzUWCp"
      },
      "source": [
        "#Clear the list content:\n",
        "thislist = [\"apple\", \"banana\", \"cherry\"]\n",
        "thislist.clear()\n",
        "print(thislist)"
      ],
      "execution_count": null,
      "outputs": []
    },
    {
      "cell_type": "code",
      "metadata": {
        "id": "EB7x309OUaoe"
      },
      "source": [
        "#Print all items in the list, one by one:\n",
        "thislist = [\"apple\", \"banana\", \"cherry\"]\n",
        "for x in thislist:\n",
        "  print(x)"
      ],
      "execution_count": null,
      "outputs": []
    },
    {
      "cell_type": "code",
      "metadata": {
        "id": "v-Gt-rW8Uido"
      },
      "source": [
        "#Print all items by referring to their index number:\n",
        "thislist = [\"apple\", \"banana\", \"cherry\"]\n",
        "for i in range(len(thislist)):\n",
        "  print(thislist[i])"
      ],
      "execution_count": null,
      "outputs": []
    },
    {
      "cell_type": "code",
      "metadata": {
        "id": "2vooXFDfWL67"
      },
      "source": [
        "#list comprehension\n",
        "fruits = [\"apple\", \"banana\", \"cherry\", \"kiwi\", \"mango\"]\n",
        "\n",
        "newlist = [x for x in fruits if \"a\" in x]\n",
        "\n",
        "print(newlist)"
      ],
      "execution_count": null,
      "outputs": []
    },
    {
      "cell_type": "code",
      "metadata": {
        "id": "kT8F640iYyaR"
      },
      "source": [
        "#Sort the list alphabetically:\n",
        "thislist = [\"orange\", \"mango\", \"kiwi\", \"pineapple\", \"banana\"]\n",
        "thislist.sort()\n",
        "print(thislist)"
      ],
      "execution_count": null,
      "outputs": []
    },
    {
      "cell_type": "code",
      "metadata": {
        "id": "4sdyo4h3ZRLa"
      },
      "source": [
        "#Sort the list numerically:\n",
        "thislist = [100, 50, 65, 82, 23]\n",
        "thislist.sort()\n",
        "print(thislist) "
      ],
      "execution_count": null,
      "outputs": []
    },
    {
      "cell_type": "code",
      "metadata": {
        "id": "rJQR2GB7Zjj0"
      },
      "source": [
        "#Sort the list descending:\n",
        "thislist = [\"orange\", \"mango\", \"kiwi\", \"pineapple\", \"banana\"]\n",
        "thislist.sort(reverse = True)\n",
        "print(thislist) "
      ],
      "execution_count": null,
      "outputs": []
    },
    {
      "cell_type": "code",
      "metadata": {
        "id": "YvSYQovOZwxy"
      },
      "source": [
        "#Make a copy of a list with the copy() method:\n",
        "thislist = [\"apple\", \"banana\", \"cherry\"]\n",
        "mylist = thislist.copy()\n",
        "print(mylist)"
      ],
      "execution_count": null,
      "outputs": []
    },
    {
      "cell_type": "code",
      "metadata": {
        "id": "9UkQu-c4Z0Ik"
      },
      "source": [
        "#Make a copy of a list with the list() method:\n",
        "thislist = [\"apple\", \"banana\", \"cherry\"]\n",
        "mylist = list(thislist)\n",
        "print(mylist)"
      ],
      "execution_count": null,
      "outputs": []
    },
    {
      "cell_type": "code",
      "metadata": {
        "id": "bhRwgqt3aU1i"
      },
      "source": [
        "#Append list2 into list1:\n",
        "list1 = [\"a\", \"b\" , \"c\"]\n",
        "list2 = [1, 2, 3]\n",
        "\n",
        "for x in list2:\n",
        "  list1.append(x)\n",
        "\n",
        "print(list1)"
      ],
      "execution_count": null,
      "outputs": []
    },
    {
      "cell_type": "code",
      "metadata": {
        "id": "AFkpFHCXaZaA"
      },
      "source": [
        "#Use the extend() method to add list2 at the end of list1:\n",
        "list1 = [\"a\", \"b\" , \"c\"]\n",
        "list2 = [1, 2, 3]\n",
        "\n",
        "list1.extend(list2)\n",
        "print(list1)"
      ],
      "execution_count": null,
      "outputs": []
    },
    {
      "cell_type": "markdown",
      "metadata": {
        "id": "GNDLt48YdD4u"
      },
      "source": [
        "**Implementation of Tuple Methods**"
      ]
    },
    {
      "cell_type": "code",
      "metadata": {
        "id": "lSib2FoodJRm"
      },
      "source": [
        "# vowels tuple\n",
        "vowels = ('a', 'e', 'i', 'o', 'i', 'u')\n",
        "\n",
        "# count element 'i'\n",
        "count = vowels.count('i')\n",
        "\n",
        "# print count\n",
        "print('The count of i is:', count)\n",
        "\n",
        "# count element 'p'\n",
        "count = vowels.count('p')\n",
        "\n",
        "# print count\n",
        "print('The count of p is:', count)"
      ],
      "execution_count": null,
      "outputs": []
    },
    {
      "cell_type": "code",
      "metadata": {
        "id": "c9PqZBGrnAnY"
      },
      "source": [
        "# vowels tuple\n",
        "vowels = ('a', 'e', 'i', 'o', 'i', 'u')\n",
        "\n",
        "# index of 'e' in vowels\n",
        "index = vowels.index('e')\n",
        "print('The index of e:', index)\n",
        "\n",
        "# element 'i' is searched\n",
        "# index of the first 'i' is returned\n",
        "index = vowels.index('i')\n",
        "\n",
        "print('The index of i:', index)"
      ],
      "execution_count": null,
      "outputs": []
    },
    {
      "cell_type": "markdown",
      "metadata": {
        "id": "20Y30i_5nHS0"
      },
      "source": [
        "**Implementation of Sets Methods**"
      ]
    },
    {
      "cell_type": "code",
      "metadata": {
        "id": "S3QMZvEhpD1A"
      },
      "source": [
        "# set of vowels\n",
        "vowels = {'a', 'e', 'i', 'u'}\n",
        "\n",
        "# adding 'o'\n",
        "vowels.add('o')\n",
        "print('Vowels are:', vowels)\n",
        "\n",
        "# adding 'a' again\n",
        "vowels.add('a')\n",
        "print('Vowels are:', vowels)"
      ],
      "execution_count": null,
      "outputs": []
    },
    {
      "cell_type": "code",
      "metadata": {
        "id": "e8tgErpGutzp"
      },
      "source": [
        "# set of vowels\n",
        "vowels = {'a', 'e', 'i', 'o', 'u'}\n",
        "print('Vowels (before clear):', vowels)\n",
        "\n",
        "# clearing vowels\n",
        "vowels.clear()\n",
        "print('Vowels (after clear):', vowels)"
      ],
      "execution_count": null,
      "outputs": []
    },
    {
      "cell_type": "code",
      "metadata": {
        "id": "vzGyMy4Wu8Hh"
      },
      "source": [
        "numbers = {1, 2, 3, 4}\n",
        "new_numbers = numbers.copy()\n",
        "\n",
        "new_numbers.add(5)\n",
        "\n",
        "print('numbers: ', numbers)\n",
        "print('new_numbers: ', new_numbers)"
      ],
      "execution_count": null,
      "outputs": []
    },
    {
      "cell_type": "code",
      "metadata": {
        "id": "syyjH5AMvIna"
      },
      "source": [
        "A = {'a', 'b', 'c', 'd'}\n",
        "B = {'c', 'f', 'g'}\n",
        "\n",
        "# Equivalent to A-B\n",
        "print(A.difference(B))\n",
        "\n",
        "# Equivalent to B-A\n",
        "print(B.difference(A))"
      ],
      "execution_count": null,
      "outputs": []
    },
    {
      "cell_type": "code",
      "metadata": {
        "id": "h0JfVB1nyQ_4"
      },
      "source": [
        "A = {'a', 'c', 'g', 'd'}\n",
        "B = {'c', 'f', 'g'}\n",
        "\n",
        "result = A.difference_update(B)\n",
        "\n",
        "print('A = ', A)\n",
        "print('B = ', B)\n",
        "print('result = ', result)"
      ],
      "execution_count": null,
      "outputs": []
    },
    {
      "cell_type": "code",
      "metadata": {
        "id": "G1OC6TG8yXsc"
      },
      "source": [
        "numbers = {2, 3, 4, 5}\n",
        "\n",
        "numbers.discard(3)\n",
        "print('numbers = ', numbers)\n",
        "\n",
        "numbers.discard(10)\n",
        "print('numbers = ', numbers)"
      ],
      "execution_count": null,
      "outputs": []
    },
    {
      "cell_type": "code",
      "metadata": {
        "id": "2rvPq18QynuJ"
      },
      "source": [
        "A = {2, 3, 5, 4}\n",
        "B = {2, 5, 100}\n",
        "C = {2, 3, 8, 9, 10}\n",
        "\n",
        "print(B.intersection(A))\n",
        "print(B.intersection(C))\n",
        "print(A.intersection(C))\n",
        "print(C.intersection(A, B))"
      ],
      "execution_count": null,
      "outputs": []
    },
    {
      "cell_type": "code",
      "metadata": {
        "id": "Y6QxJexBypyf"
      },
      "source": [
        "A = {1, 2, 3, 4}\n",
        "B = {2, 3, 4, 5}\n",
        "\n",
        "result = A.intersection_update(B)\n",
        "\n",
        "print('result =', result)\n",
        "print('A =', A)\n",
        "print('B =', B)"
      ],
      "execution_count": null,
      "outputs": []
    },
    {
      "cell_type": "code",
      "metadata": {
        "id": "1xx818OdywqO"
      },
      "source": [
        "A = {1, 2, 3, 4}\n",
        "B = {5, 6, 7}\n",
        "C = {4, 5, 6}\n",
        "\n",
        "print('Are A and B disjoint?', A.isdisjoint(B))\n",
        "print('Are A and C disjoint?', A.isdisjoint(C))"
      ],
      "execution_count": null,
      "outputs": []
    },
    {
      "cell_type": "code",
      "metadata": {
        "id": "d115dpvVy5IN"
      },
      "source": [
        "A = {1, 2, 3}\n",
        "B = {1, 2, 3, 4, 5}\n",
        "C = {1, 2, 4, 5}\n",
        "\n",
        "# Returns True\n",
        "print(A.issubset(B))\n",
        "\n",
        "# Returns False\n",
        "# B is not subset of A\n",
        "print(B.issubset(A))\n",
        "\n",
        "# Returns False\n",
        "print(A.issubset(C))\n",
        "\n",
        "# Returns True\n",
        "print(C.issubset(B))"
      ],
      "execution_count": null,
      "outputs": []
    },
    {
      "cell_type": "code",
      "metadata": {
        "id": "VH-kOsgZzAmh"
      },
      "source": [
        "A = {1, 2, 3, 4, 5}\n",
        "B = {1, 2, 3}\n",
        "C = {1, 2, 3}\n",
        "\n",
        "# Returns True\n",
        "print(A.issuperset(B))\n",
        "\n",
        "# Returns False\n",
        "print(B.issuperset(A))\n",
        "\n",
        "# Returns True\n",
        "print(C.issuperset(B))"
      ],
      "execution_count": null,
      "outputs": []
    },
    {
      "cell_type": "code",
      "metadata": {
        "id": "Rn3Q9jT_zIET"
      },
      "source": [
        "\n",
        "A ={'a', 'b', 'c', 'd'}\n",
        "\n",
        "print('Return Value is', A.pop())\n",
        "print('A = ', A)\n"
      ],
      "execution_count": null,
      "outputs": []
    },
    {
      "cell_type": "code",
      "metadata": {
        "id": "JGHCvm7y0htL"
      },
      "source": [
        "# language set\n",
        "language = {'English', 'French', 'German'}\n",
        "\n",
        "# removing 'German' from language\n",
        "language.remove('German')\n",
        "\n",
        "# Updated language set\n",
        "print('Updated language set:', language)"
      ],
      "execution_count": null,
      "outputs": []
    },
    {
      "cell_type": "code",
      "metadata": {
        "id": "9tue4yqJ0pgk"
      },
      "source": [
        "A = {'a', 'b', 'c', 'd'}\n",
        "B = {'c', 'd', 'e' }\n",
        "C = {}\n",
        "\n",
        "print(A.symmetric_difference(B))\n",
        "print(B.symmetric_difference(A))\n",
        "\n",
        "print(A.symmetric_difference(C))\n",
        "print(B.symmetric_difference(C))"
      ],
      "execution_count": null,
      "outputs": []
    },
    {
      "cell_type": "code",
      "metadata": {
        "id": "YbNgZVuK0zEk"
      },
      "source": [
        "A = {'a', 'c', 'd'}\n",
        "B = {'c', 'd', 'e' }\n",
        "\n",
        "result = A.symmetric_difference_update(B)\n",
        "\n",
        "print('A =', A)\n",
        "print('B =', B)\n",
        "print('result =', result)"
      ],
      "execution_count": null,
      "outputs": []
    },
    {
      "cell_type": "code",
      "metadata": {
        "id": "SdL1iWi11EOM"
      },
      "source": [
        "A = {'a', 'c', 'd'}\n",
        "B = {'c', 'd', 2 }\n",
        "C = {1, 2, 3}\n",
        "\n",
        "print('A U B =', A.union(B))\n",
        "print('B U C =', B.union(C))\n",
        "print('A U B U C =', A.union(B, C))\n",
        "print('A.union() =', A.union())"
      ],
      "execution_count": null,
      "outputs": []
    },
    {
      "cell_type": "code",
      "metadata": {
        "id": "0rdZf8wt1HL4"
      },
      "source": [
        "A = {'a', 'b'}\n",
        "B = {1, 2, 3}\n",
        "\n",
        "result = A.update(B)\n",
        "\n",
        "print('A =', A)\n",
        "print('result =', result)"
      ],
      "execution_count": null,
      "outputs": []
    },
    {
      "cell_type": "markdown",
      "metadata": {
        "id": "J1Gr6Eju1dkz"
      },
      "source": [
        "**Implementation of Dictionary methods**"
      ]
    },
    {
      "cell_type": "code",
      "metadata": {
        "id": "pQ8Joky_1i_O"
      },
      "source": [
        "d = {1: \"one\", 2: \"two\"}\n",
        "\n",
        "d.clear()\n",
        "print('d =', d)"
      ],
      "execution_count": null,
      "outputs": []
    },
    {
      "cell_type": "code",
      "metadata": {
        "id": "K1AUCsna13P3"
      },
      "source": [
        "original = {1:'one', 2:'two'}\n",
        "new = original.copy()\n",
        "\n",
        "print('Orignal: ', original)\n",
        "print('New: ', new)"
      ],
      "execution_count": null,
      "outputs": []
    },
    {
      "cell_type": "code",
      "metadata": {
        "id": "D0D8jM9H19Ym"
      },
      "source": [
        "# vowels keys\n",
        "keys = {'a', 'e', 'i', 'o', 'u' }\n",
        "\n",
        "vowels = dict.fromkeys(keys)\n",
        "print(vowels)"
      ],
      "execution_count": null,
      "outputs": []
    },
    {
      "cell_type": "code",
      "metadata": {
        "id": "mPMlj7Bt2FLu"
      },
      "source": [
        "person = {'name': 'Phill', 'age': 22}\n",
        "\n",
        "print('Name: ', person.get('name'))\n",
        "print('Age: ', person.get('age'))\n",
        "\n",
        "# value is not provided\n",
        "print('Salary: ', person.get('salary'))\n",
        "\n",
        "# value is provided\n",
        "print('Salary: ', person.get('salary', 0.0))"
      ],
      "execution_count": null,
      "outputs": []
    },
    {
      "cell_type": "code",
      "metadata": {
        "id": "vLM6Qr-j2XQW"
      },
      "source": [
        "sales = { 'apple': 2, 'orange': 3, 'grapes': 4 }\n",
        "\n",
        "print(sales.items())"
      ],
      "execution_count": null,
      "outputs": []
    },
    {
      "cell_type": "code",
      "metadata": {
        "id": "CJ8NqCs16j6V"
      },
      "source": [
        "person = {'name': 'Phill', 'age': 22, 'salary': 3500.0}\n",
        "print(person.keys())\n",
        "\n",
        "empty_dict = {}\n",
        "print(empty_dict.keys())"
      ],
      "execution_count": null,
      "outputs": []
    },
    {
      "cell_type": "code",
      "metadata": {
        "id": "Kw3BGSXa6ocR"
      },
      "source": [
        "# random sales dictionary\n",
        "sales = { 'apple': 2, 'orange': 3, 'grapes': 4 }\n",
        "\n",
        "element = sales.pop('apple')\n",
        "print('The popped element is:', element)\n",
        "print('The dictionary is:', sales)"
      ],
      "execution_count": null,
      "outputs": []
    },
    {
      "cell_type": "code",
      "metadata": {
        "id": "MmtIy2Zm6yl7"
      },
      "source": [
        "person = {'name': 'Phill', 'age': 22, 'salary': 3500.0}\n",
        "\n",
        "# ('salary', 3500.0) is inserted at the last, so it is removed.\n",
        "result = person.popitem()\n",
        "\n",
        "print('Return Value = ', result)\n",
        "print('person = ', person)\n",
        "\n",
        "# inserting a new element pair\n",
        "person['profession'] = 'Plumber'\n",
        "\n",
        "# now ('profession', 'Plumber') is the latest element\n",
        "result = person.popitem()\n",
        "\n",
        "print('Return Value = ', result)\n",
        "print('person = ', person)"
      ],
      "execution_count": null,
      "outputs": []
    },
    {
      "cell_type": "code",
      "metadata": {
        "id": "gxFVNPA67c0q"
      },
      "source": [
        "person = {'name': 'Phill', 'age': 22}\n",
        "\n",
        "age = person.setdefault('age')\n",
        "print('person = ',person)\n",
        "print('Age = ',age)"
      ],
      "execution_count": null,
      "outputs": []
    },
    {
      "cell_type": "code",
      "metadata": {
        "id": "YTeQ2AbZ7eSQ"
      },
      "source": [
        "d = {1: \"one\", 2: \"three\"}\n",
        "d1 = {2: \"two\"}\n",
        "\n",
        "# updates the value of key 2\n",
        "d.update(d1)\n",
        "print(d)\n",
        "\n",
        "d1 = {3: \"three\"}\n",
        "\n",
        "# adds element with key 3\n",
        "d.update(d1)\n",
        "print(d)"
      ],
      "execution_count": null,
      "outputs": []
    },
    {
      "cell_type": "code",
      "metadata": {
        "id": "G80iGpkb7kVW"
      },
      "source": [
        "# random sales dictionary\n",
        "sales = { 'apple': 2, 'orange': 3, 'grapes': 4 }\n",
        "\n",
        "print(sales.values())"
      ],
      "execution_count": null,
      "outputs": []
    },
    {
      "cell_type": "markdown",
      "metadata": {
        "id": "ulbKrKD3-Zmc"
      },
      "source": [
        "**Implementation of String Methods**"
      ]
    },
    {
      "cell_type": "code",
      "metadata": {
        "id": "2HPiLSmR-eEL"
      },
      "source": [
        "string = \"python is AWesome.\"\n",
        "\n",
        "capitalized_string = string.capitalize()\n",
        "\n",
        "print('Old String: ', string)\n",
        "print('Capitalized String:', capitalized_string)"
      ],
      "execution_count": null,
      "outputs": []
    },
    {
      "cell_type": "code",
      "metadata": {
        "id": "G-J8liX5-tGs"
      },
      "source": [
        "string = \"PYTHON IS AWESOME\"\n",
        "\n",
        "# print lowercase string\n",
        "print(\"Lowercase string:\", string.casefold())"
      ],
      "execution_count": null,
      "outputs": []
    },
    {
      "cell_type": "code",
      "metadata": {
        "id": "0Xn7mPhT_N_q"
      },
      "source": [
        "string = \"Python is awesome\"\n",
        "\n",
        "new_string = string.center(24)\n",
        "\n",
        "print(\"Centered String: \", new_string)"
      ],
      "execution_count": null,
      "outputs": []
    },
    {
      "cell_type": "code",
      "metadata": {
        "id": "n0DVZWab_QDj"
      },
      "source": [
        "s = 'this is good'\n",
        "print(s.islower())\n",
        "\n",
        "s = 'th!s is a1so g00d'\n",
        "print(s.islower())\n",
        "\n",
        "s = 'this is Not good'\n",
        "print(s.islower())"
      ],
      "execution_count": null,
      "outputs": []
    },
    {
      "cell_type": "code",
      "metadata": {
        "id": "DEwwBO9h_YqU"
      },
      "source": [
        "# example string\n",
        "string = \"THIS IS GOOD!\"\n",
        "print(string.isupper());\n",
        "\n",
        "# numbers in place of alphabets\n",
        "string = \"THIS IS ALSO G00D!\"\n",
        "print(string.isupper());\n",
        "\n",
        "# lowercase string\n",
        "string = \"THIS IS not GOOD!\"\n",
        "print(string.isupper());"
      ],
      "execution_count": null,
      "outputs": []
    },
    {
      "cell_type": "code",
      "metadata": {
        "id": "W4w8bnUZ_kyg"
      },
      "source": [
        "song = 'cold, cold heart'\n",
        "\n",
        "# replacing 'cold' with 'hurt'\n",
        "print(song.replace('cold', 'hurt'))\n",
        "\n",
        "song = 'Let it be, let it be, let it be, let it be'\n",
        "\n",
        "# replacing only two occurences of 'let'\n",
        "print(song.replace('let', \"don't let\", 2))"
      ],
      "execution_count": null,
      "outputs": []
    },
    {
      "cell_type": "markdown",
      "metadata": {
        "id": "RqaAznFIBFK2"
      },
      "source": [
        "**Implementation of IF conditions**"
      ]
    },
    {
      "cell_type": "code",
      "metadata": {
        "id": "Z7lgXGyqBJO_"
      },
      "source": [
        "#using elif\n",
        "a = 33\n",
        "b = 33\n",
        "if b > a:\n",
        "  print(\"b is greater than a\")\n",
        "elif a == b:\n",
        "  print(\"a and b are equal\")"
      ],
      "execution_count": null,
      "outputs": []
    },
    {
      "cell_type": "code",
      "metadata": {
        "id": "3MnzWB7DBOyc"
      },
      "source": [
        "#using else\n",
        "a = 200\n",
        "b = 33\n",
        "if b > a:\n",
        "  print(\"b is greater than a\")\n",
        "elif a == b:\n",
        "  print(\"a and b are equal\")\n",
        "else:\n",
        "  print(\"a is greater than b\")"
      ],
      "execution_count": null,
      "outputs": []
    },
    {
      "cell_type": "code",
      "metadata": {
        "id": "vzv293AlBfos"
      },
      "source": [
        "#using and\n",
        "a = 200\n",
        "b = 33\n",
        "c = 500\n",
        "if a > b and c > a:\n",
        "  print(\"Both conditions are True\")\n"
      ],
      "execution_count": null,
      "outputs": []
    },
    {
      "cell_type": "code",
      "metadata": {
        "id": "yaqBoXaYBjcV"
      },
      "source": [
        "#using or\n",
        "a = 200\n",
        "b = 33\n",
        "c = 500\n",
        "if a > b or a > c:\n",
        "  print(\"At least one of the conditions is True\")\n",
        "  "
      ],
      "execution_count": null,
      "outputs": []
    },
    {
      "cell_type": "code",
      "metadata": {
        "id": "aQtNmX4jBovD"
      },
      "source": [
        "#using nested if\n",
        "x = 41\n",
        "\n",
        "if x > 10:\n",
        "  print(\"Above ten,\")\n",
        "  if x > 20:\n",
        "    print(\"and also above 20!\")\n",
        "  else:\n",
        "    print(\"but not above 20.\")"
      ],
      "execution_count": null,
      "outputs": []
    },
    {
      "cell_type": "code",
      "metadata": {
        "id": "fpDJ2WuEBvu0"
      },
      "source": [
        "#using pass statement\n",
        "a = 33\n",
        "b = 200\n",
        "\n",
        "if b > a:\n",
        "  pass\n"
      ],
      "execution_count": null,
      "outputs": []
    },
    {
      "cell_type": "markdown",
      "metadata": {
        "id": "PzPEgUjpCAw7"
      },
      "source": [
        "**Implementation Of For loops**"
      ]
    },
    {
      "cell_type": "code",
      "metadata": {
        "id": "iMI6oM80CDxr"
      },
      "source": [
        "#Print each fruit in a fruit list:\n",
        "fruits = [\"apple\", \"banana\", \"cherry\"]\n",
        "for x in fruits:\n",
        "  print(x)"
      ],
      "execution_count": null,
      "outputs": []
    },
    {
      "cell_type": "code",
      "metadata": {
        "id": "360Sry-WEBTn",
        "colab": {
          "base_uri": "https://localhost:8080/"
        },
        "outputId": "0c835f49-9490-4fa9-b20d-0f3238e32497"
      },
      "source": [
        "#using break statement\n",
        "fruits = [\"apple\", \"banana\", \"cherry\"]\n",
        "for x in fruits:\n",
        "  print(x)\n",
        "  if x == \"banana\":\n",
        "    break"
      ],
      "execution_count": 1,
      "outputs": [
        {
          "output_type": "stream",
          "text": [
            "apple\n",
            "banana\n"
          ],
          "name": "stdout"
        }
      ]
    },
    {
      "cell_type": "code",
      "metadata": {
        "id": "oeBQXccWMPy7"
      },
      "source": [
        "#using continue statement\n",
        "fruits = [\"apple\", \"banana\", \"cherry\"]\n",
        "for x in fruits:\n",
        "  if x == \"banana\":\n",
        "    continue\n",
        "  print(x)"
      ],
      "execution_count": null,
      "outputs": []
    },
    {
      "cell_type": "code",
      "metadata": {
        "id": "T36577KAMWMc"
      },
      "source": [
        "#using range() function\n",
        "for x in range(6):\n",
        "  print(x)"
      ],
      "execution_count": null,
      "outputs": []
    },
    {
      "cell_type": "code",
      "metadata": {
        "id": "ociKZopYMdvL"
      },
      "source": [
        "#nested loops\n",
        "adj = [\"red\", \"big\", \"tasty\"]\n",
        "fruits = [\"apple\", \"banana\", \"cherry\"]\n",
        "\n",
        "for x in adj:\n",
        "  for y in fruits:\n",
        "    print(x, y)"
      ],
      "execution_count": null,
      "outputs": []
    },
    {
      "cell_type": "markdown",
      "metadata": {
        "id": "esbMGuFLMtTz"
      },
      "source": [
        "**Implementation of While loops**"
      ]
    },
    {
      "cell_type": "code",
      "metadata": {
        "id": "rMchqs1-MyIn"
      },
      "source": [
        "i = 1\n",
        "while i < 6:\n",
        "  print(i)\n",
        "  i += 1"
      ],
      "execution_count": null,
      "outputs": []
    },
    {
      "cell_type": "code",
      "metadata": {
        "id": "4IX0nc6AM5Kb"
      },
      "source": [
        "#using break statement\n",
        "i = 1\n",
        "while i < 6:\n",
        "  print(i)\n",
        "  if i == 3:\n",
        "    break\n",
        "  i += 1"
      ],
      "execution_count": null,
      "outputs": []
    },
    {
      "cell_type": "code",
      "metadata": {
        "id": "SfFpNneNNUnH"
      },
      "source": [
        "#using continue statement\n",
        "i = 0\n",
        "while i < 6:\n",
        "  i += 1\n",
        "  if i == 3:\n",
        "    continue\n",
        "  print(i) "
      ],
      "execution_count": null,
      "outputs": []
    },
    {
      "cell_type": "code",
      "metadata": {
        "id": "NoP0NrGzNbhT"
      },
      "source": [
        "#using else statement in while loops\n",
        "i = 1\n",
        "while i < 6:\n",
        "  print(i)\n",
        "  i += 1\n",
        "else:\n",
        "  print(\"i is no longer less than 6\")"
      ],
      "execution_count": null,
      "outputs": []
    },
    {
      "cell_type": "markdown",
      "metadata": {
        "id": "0q63cyVzNjDp"
      },
      "source": [
        "**Designing a Calculator**"
      ]
    },
    {
      "cell_type": "code",
      "metadata": {
        "id": "rdITr47NNnJD"
      },
      "source": [
        "# Program make a simple calculator\n",
        "\n",
        "# This function adds two numbers\n",
        "def add(x, y):\n",
        "    return x + y\n",
        "\n",
        "# This function subtracts two numbers\n",
        "def subtract(x, y):\n",
        "    return x - y\n",
        "\n",
        "# This function multiplies two numbers\n",
        "def multiply(x, y):\n",
        "    return x * y\n",
        "\n",
        "# This function divides two numbers\n",
        "def divide(x, y):\n",
        "    return x / y\n",
        "\n",
        "\n",
        "print(\"Select operation.\")\n",
        "print(\"1.Add\")\n",
        "print(\"2.Subtract\")\n",
        "print(\"3.Multiply\")\n",
        "print(\"4.Divide\")\n",
        "\n",
        "while True:\n",
        "    # Take input from the user\n",
        "    choice = input(\"Enter choice(1/2/3/4): \")\n",
        "\n",
        "    # Check if choice is one of the four options\n",
        "    if choice in ('1', '2', '3', '4'):\n",
        "        num1 = float(input(\"Enter first number: \"))\n",
        "        num2 = float(input(\"Enter second number: \"))\n",
        "\n",
        "        if choice == '1':\n",
        "            print(num1, \"+\", num2, \"=\", add(num1, num2))\n",
        "\n",
        "        elif choice == '2':\n",
        "            print(num1, \"-\", num2, \"=\", subtract(num1, num2))\n",
        "\n",
        "        elif choice == '3':\n",
        "            print(num1, \"*\", num2, \"=\", multiply(num1, num2))\n",
        "\n",
        "        elif choice == '4':\n",
        "            print(num1, \"/\", num2, \"=\", divide(num1, num2))\n",
        "        break\n",
        "    else:\n",
        "        print(\"Invalid Input\")"
      ],
      "execution_count": null,
      "outputs": []
    }
  ]
}