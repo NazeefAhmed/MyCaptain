{
  "nbformat": 4,
  "nbformat_minor": 0,
  "metadata": {
    "colab": {
      "name": "Real Python",
      "provenance": []
    },
    "kernelspec": {
      "name": "python3",
      "display_name": "Python 3"
    },
    "language_info": {
      "name": "python"
    }
  },
  "cells": [
    {
      "cell_type": "code",
      "metadata": {
        "id": "8xemmB7KGOJE"
      },
      "source": [
        "#taking the details of each employee and storing it in a list\n",
        "kirk = [\"James Kirk\", 34, \"Captain\", 2265]\n",
        "spock = [\"Spock\", 35, \"Science Officer\", 2254]\n",
        "mccoy = [\"Leonard McCoy\", \"Chief Medical Officer\", 2266] "
      ],
      "execution_count": null,
      "outputs": []
    },
    {
      "cell_type": "code",
      "metadata": {
        "id": "gI-GkLHkG-vw"
      },
      "source": [
        "#using _init_() to initialize every new instance of this class\n",
        "class Dog:\n",
        "    def __init__(self, name, age):\n",
        "        self.name = name\n",
        "        self.age = age"
      ],
      "execution_count": null,
      "outputs": []
    },
    {
      "cell_type": "code",
      "metadata": {
        "id": "puhMPf-2Iv42"
      },
      "source": [
        "#giving a class attribute\n",
        "class Dog:\n",
        "    # Class attribute\n",
        "    species = \"Canis familiaris\"\n",
        "\n",
        "    def __init__(self, name, age):\n",
        "        self.name = name\n",
        "        self.age = age"
      ],
      "execution_count": null,
      "outputs": []
    },
    {
      "cell_type": "code",
      "metadata": {
        "id": "ptSLNsLUJ2Da"
      },
      "source": [
        "#using two instance methods in the class Dog\n",
        "class Dog:\n",
        "    species = \"Canis familiaris\"\n",
        "\n",
        "    def __init__(self, name, age):\n",
        "        self.name = name\n",
        "        self.age = age\n",
        "\n",
        "    # Instance method\n",
        "    def description(self):\n",
        "        return f\"{self.name} is {self.age} years old\"\n",
        "\n",
        "    # Another instance method\n",
        "    def speak(self, sound):\n",
        "        return f\"{self.name} says {sound}\""
      ],
      "execution_count": null,
      "outputs": []
    },
    {
      "cell_type": "code",
      "metadata": {
        "id": "tifN-x82KZyy"
      },
      "source": [
        "#adding another instance attribute 'breed'\n",
        "class Dog:\n",
        "    species = \"Canis familiaris\"\n",
        "\n",
        "    def __init__(self, name, age, breed):\n",
        "        self.name = name\n",
        "        self.age = age\n",
        "        self.breed = breed"
      ],
      "execution_count": null,
      "outputs": []
    },
    {
      "cell_type": "code",
      "metadata": {
        "id": "ahZ-vpAhNv4u"
      },
      "source": [
        "#creating child classes of the parent class Dog\n",
        "class JackRussellTerrier(Dog):\n",
        "    pass\n",
        "\n",
        "class Dachshund(Dog):\n",
        "    pass\n",
        "\n",
        "class Bulldog(Dog):\n",
        "    pass"
      ],
      "execution_count": null,
      "outputs": []
    },
    {
      "cell_type": "code",
      "metadata": {
        "id": "_MGDv24JYLag"
      },
      "source": [
        "#providing a default value of bark for every child class\n",
        "class JackRussellTerrier(Dog):\n",
        "    def speak(self, sound=\"Arf\"):\n",
        "        return f\"{self.name} says {sound}\""
      ],
      "execution_count": null,
      "outputs": []
    },
    {
      "cell_type": "code",
      "metadata": {
        "id": "EM-zwmctdNs6"
      },
      "source": [
        "#accessing parent class from child class using super()\n",
        "class JackRussellTerrier(Dog):\n",
        "    def speak(self, sound=\"Arf\"):\n",
        "        return super().speak(sound)"
      ],
      "execution_count": null,
      "outputs": []
    }
  ]
}