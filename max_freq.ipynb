{
  "nbformat": 4,
  "nbformat_minor": 0,
  "metadata": {
    "colab": {
      "name": "max freq.ipynb",
      "provenance": [],
      "collapsed_sections": []
    },
    "kernelspec": {
      "name": "python3",
      "display_name": "Python 3"
    },
    "language_info": {
      "name": "python"
    }
  },
  "cells": [
    {
      "cell_type": "code",
      "metadata": {
        "id": "dj7xFwSP2z1f"
      },
      "source": [
        "\n",
        "text = input('Enter a text')\n",
        "\n",
        "\n",
        "def make_dict(x):\n",
        "    dictionary = {}\n",
        "    for letter in x:\n",
        "        dictionary[letter] = 1 + dictionary.get(letter, 0)\n",
        "    return dictionary\n",
        "\n",
        "\n",
        "def most_frequent(text):\n",
        "    letters = [letter.lower() for letter in text if letter.isalpha()]\n",
        "    dictionary = make_dict(letters)\n",
        "    result = []\n",
        "    for key in dictionary:\n",
        "        result.append((dictionary[key], key))\n",
        "    result.sort(reverse=True)\n",
        "    for count, letter in result:\n",
        "        print (letter, count)\n",
        "\n",
        "most_frequent(text)"
      ],
      "execution_count": null,
      "outputs": []
    }
  ]
}