{
  "nbformat": 4,
  "nbformat_minor": 0,
  "metadata": {
    "colab": {
      "name": "mycaptaintask3.ipynb",
      "provenance": []
    },
    "kernelspec": {
      "name": "python3",
      "display_name": "Python 3"
    },
    "language_info": {
      "name": "python"
    }
  },
  "cells": [
    {
      "cell_type": "code",
      "metadata": {
        "id": "DiySNJF7fA8u"
      },
      "source": [
        "pi = 3.14\n",
        "radius = float(input(\"Enter the radius of a circle:\"))\n",
        "area = pi * radius * radius\n",
        "print(\"Area of the circle whose radius is %f = %.2f\" %(radius,area))"
      ],
      "execution_count": null,
      "outputs": []
    },
    {
      "cell_type": "code",
      "metadata": {
        "id": "r5kvxiwbifkD"
      },
      "source": [
        "filename = input(\"Input the Filename: \")\n",
        "f_extns = filename.split(\".\")\n",
        "print (\"The extension of the file is : \" + repr(f_extns[-1]))"
      ],
      "execution_count": null,
      "outputs": []
    }
  ]
}